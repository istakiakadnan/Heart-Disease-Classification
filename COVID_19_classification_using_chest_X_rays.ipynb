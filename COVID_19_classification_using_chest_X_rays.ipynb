{
  "nbformat": 4,
  "nbformat_minor": 0,
  "metadata": {
    "colab": {
      "name": "COVID-19_classification_using_chest_X-rays.ipynb",
      "provenance": [],
      "authorship_tag": "ABX9TyMjMMeQa2058paqacNU98x7",
      "include_colab_link": true
    },
    "kernelspec": {
      "name": "python3",
      "display_name": "Python 3"
    },
    "language_info": {
      "name": "python"
    },
    "accelerator": "GPU"
  },
  "cells": [
    {
      "cell_type": "markdown",
      "metadata": {
        "id": "view-in-github",
        "colab_type": "text"
      },
      "source": [
        "<a href=\"https://colab.research.google.com/github/istakiakadnan/Heart-Disease-Classification/blob/main/COVID_19_classification_using_chest_X_rays.ipynb\" target=\"_parent\"><img src=\"https://colab.research.google.com/assets/colab-badge.svg\" alt=\"Open In Colab\"/></a>"
      ]
    },
    {
      "cell_type": "code",
      "metadata": {
        "id": "4J-nhlpmVG0Q"
      },
      "source": [
        "from google.colab import drive"
      ],
      "execution_count": null,
      "outputs": []
    },
    {
      "cell_type": "code",
      "metadata": {
        "colab": {
          "base_uri": "https://localhost:8080/"
        },
        "id": "KqrwD5WWVQoE",
        "outputId": "5402bf9e-213b-4acc-f4c3-57c473a12406"
      },
      "source": [
        "drive.mount('/content/drive/')"
      ],
      "execution_count": null,
      "outputs": [
        {
          "output_type": "stream",
          "name": "stdout",
          "text": [
            "Mounted at /content/drive/\n"
          ]
        }
      ]
    },
    {
      "cell_type": "code",
      "metadata": {
        "colab": {
          "base_uri": "https://localhost:8080/"
        },
        "id": "rY-SPRZhVoxL",
        "outputId": "3619acdf-0c18-4323-de9d-a921c3e1f658"
      },
      "source": [
        "import os\n",
        "\n",
        "import tensorflow as tf\n",
        "from tensorflow import keras\n",
        "\n",
        "print(tf.version.VERSION)"
      ],
      "execution_count": null,
      "outputs": [
        {
          "output_type": "stream",
          "name": "stdout",
          "text": [
            "2.6.0\n"
          ]
        }
      ]
    },
    {
      "cell_type": "code",
      "metadata": {
        "id": "1sWn1Ci_Vx4T"
      },
      "source": [
        "import numpy as np\n",
        "import matplotlib.pyplot as plt\n",
        "\n",
        "import keras\n",
        "from keras.layers import Dense,Conv2D, MaxPool2D, Dropout, Flatten\n",
        "from keras.models import Sequential\n",
        "from keras.preprocessing import image\n",
        "from keras.preprocessing.image import ImageDataGenerator"
      ],
      "execution_count": null,
      "outputs": []
    },
    {
      "cell_type": "code",
      "metadata": {
        "id": "ZFceOarqV9Xz"
      },
      "source": [
        "# Preprocessing the Training set\n",
        "train_datagen = ImageDataGenerator(rescale = 1./255,\n",
        "                                   shear_range = 0.2,\n",
        "                                   zoom_range = 0.2,\n",
        "                                   horizontal_flip = True)"
      ],
      "execution_count": null,
      "outputs": []
    },
    {
      "cell_type": "code",
      "metadata": {
        "colab": {
          "base_uri": "https://localhost:8080/"
        },
        "id": "TAIWtrIfWrNT",
        "outputId": "7410ff4c-7499-428c-996f-c2ecab359c5f"
      },
      "source": [
        "training_set = train_datagen.flow_from_directory('/content/drive/MyDrive/CovidDataset/Train',\n",
        "                                                 target_size = (180, 180),\n",
        "                                                 batch_size = 32,\n",
        "                                                 class_mode = 'binary')"
      ],
      "execution_count": null,
      "outputs": [
        {
          "output_type": "stream",
          "name": "stdout",
          "text": [
            "Found 5800 images belonging to 2 classes.\n"
          ]
        }
      ]
    },
    {
      "cell_type": "code",
      "metadata": {
        "colab": {
          "base_uri": "https://localhost:8080/"
        },
        "id": "7iuc92lnWttL",
        "outputId": "7b23cbca-d0e9-456e-9918-c3f3de8bf6be"
      },
      "source": [
        "# Preprocessing the Test set\n",
        "test_datagen = ImageDataGenerator(rescale = 1./255)\n",
        "test_set = test_datagen.flow_from_directory('/content/drive/MyDrive/CovidDataset/Val',\n",
        "                                            target_size = (180, 180),\n",
        "                                            batch_size = 32,\n",
        "                                            class_mode = 'binary')"
      ],
      "execution_count": null,
      "outputs": [
        {
          "output_type": "stream",
          "name": "stdout",
          "text": [
            "Found 1305 images belonging to 2 classes.\n"
          ]
        }
      ]
    },
    {
      "cell_type": "code",
      "metadata": {
        "id": "plGwrpQqW3qS"
      },
      "source": [
        "# Define a simple sequential model\n",
        "def create_model():\n",
        "  model = tf.keras.models.Sequential()\n",
        "\n",
        "  model.add(tf.keras.layers.Conv2D(filters=32, kernel_size=3, activation='relu', input_shape=[180, 180, 3]))\n",
        "  model.add(tf.keras.layers.MaxPool2D(pool_size=2, strides=2))\n",
        "\n",
        "  model.add(tf.keras.layers.Conv2D(filters=64, kernel_size=3, activation='relu'))\n",
        "  model.add(tf.keras.layers.MaxPool2D(pool_size=2, strides=2))\n",
        "  model.add(Dropout(rate=0.20))\n",
        "\n",
        "  model.add(tf.keras.layers.Flatten())\n",
        "\n",
        "  model.add(tf.keras.layers.Dense(units=128, activation='relu'))\n",
        "  model.add(Dropout(rate = 0.25))\n",
        "  model.add(tf.keras.layers.Dense(units=1, activation='sigmoid'))\n",
        "\n",
        "  model.compile(optimizer = 'adam', loss = 'binary_crossentropy', metrics = ['accuracy'])\n",
        "\n",
        "  return model\n",
        "\n",
        "\n"
      ],
      "execution_count": null,
      "outputs": []
    },
    {
      "cell_type": "code",
      "metadata": {
        "id": "cbOYN4k-XALc"
      },
      "source": [
        "# Create a basic model instance\n",
        "model = create_model()"
      ],
      "execution_count": null,
      "outputs": []
    },
    {
      "cell_type": "code",
      "metadata": {
        "colab": {
          "base_uri": "https://localhost:8080/"
        },
        "id": "tWZU-AGBXBCr",
        "outputId": "01ac5278-0afb-4883-a6b2-d09e37b5527d"
      },
      "source": [
        "\n",
        "# Display the model's architecture\n",
        "model.summary()"
      ],
      "execution_count": null,
      "outputs": [
        {
          "output_type": "stream",
          "name": "stdout",
          "text": [
            "Model: \"sequential_1\"\n",
            "_________________________________________________________________\n",
            "Layer (type)                 Output Shape              Param #   \n",
            "=================================================================\n",
            "conv2d_2 (Conv2D)            (None, 178, 178, 32)      896       \n",
            "_________________________________________________________________\n",
            "max_pooling2d_2 (MaxPooling2 (None, 89, 89, 32)        0         \n",
            "_________________________________________________________________\n",
            "conv2d_3 (Conv2D)            (None, 87, 87, 64)        18496     \n",
            "_________________________________________________________________\n",
            "max_pooling2d_3 (MaxPooling2 (None, 43, 43, 64)        0         \n",
            "_________________________________________________________________\n",
            "dropout (Dropout)            (None, 43, 43, 64)        0         \n",
            "_________________________________________________________________\n",
            "flatten (Flatten)            (None, 118336)            0         \n",
            "_________________________________________________________________\n",
            "dense (Dense)                (None, 128)               15147136  \n",
            "_________________________________________________________________\n",
            "dropout_1 (Dropout)          (None, 128)               0         \n",
            "_________________________________________________________________\n",
            "dense_1 (Dense)              (None, 1)                 129       \n",
            "=================================================================\n",
            "Total params: 15,166,657\n",
            "Trainable params: 15,166,657\n",
            "Non-trainable params: 0\n",
            "_________________________________________________________________\n"
          ]
        }
      ]
    },
    {
      "cell_type": "code",
      "metadata": {
        "colab": {
          "base_uri": "https://localhost:8080/"
        },
        "id": "44XJb1WjYoXC",
        "outputId": "2a9fa258-5f00-4919-cb9e-4cd14b4cd051"
      },
      "source": [
        "checkpoint_path = \"/content/drive/MyDrive/saved/cp.ckpt\"\n",
        "checkpoint_dir = os.path.dirname(checkpoint_path)\n",
        "\n",
        "# Create a callback that saves the model's weights\n",
        "cp_callback = tf.keras.callbacks.ModelCheckpoint(filepath=checkpoint_path,\n",
        "                                                 save_weights_only=True,\n",
        "                                                 verbose=1)\n",
        "\n",
        "# Train the model with the new callback\n",
        "model.fit(x = training_set, validation_data = test_set, epochs = 30,\n",
        "          callbacks=[cp_callback])  # Pass callback to training\n",
        "\n",
        "# This may generate warnings related to saving the state of the optimizer.\n",
        "# These warnings (and similar warnings throughout this notebook)\n",
        "# are in place to discourage outdated usage, and can be ignored."
      ],
      "execution_count": null,
      "outputs": [
        {
          "output_type": "stream",
          "name": "stdout",
          "text": [
            "Epoch 1/30\n",
            "182/182 [==============================] - 3194s 18s/step - loss: 0.6953 - accuracy: 0.6969 - val_loss: 0.6552 - val_accuracy: 0.6230\n",
            "\n",
            "Epoch 00001: saving model to /content/drive/MyDrive/saved/cp.ckpt\n",
            "Epoch 2/30\n",
            "182/182 [==============================] - 313s 2s/step - loss: 0.4577 - accuracy: 0.7864 - val_loss: 0.7307 - val_accuracy: 0.5586\n",
            "\n",
            "Epoch 00002: saving model to /content/drive/MyDrive/saved/cp.ckpt\n",
            "Epoch 3/30\n",
            "182/182 [==============================] - 307s 2s/step - loss: 0.4110 - accuracy: 0.8038 - val_loss: 0.6398 - val_accuracy: 0.6192\n",
            "\n",
            "Epoch 00003: saving model to /content/drive/MyDrive/saved/cp.ckpt\n",
            "Epoch 4/30\n",
            "182/182 [==============================] - 309s 2s/step - loss: 0.3873 - accuracy: 0.8260 - val_loss: 0.6927 - val_accuracy: 0.6759\n",
            "\n",
            "Epoch 00004: saving model to /content/drive/MyDrive/saved/cp.ckpt\n",
            "Epoch 5/30\n",
            "182/182 [==============================] - 312s 2s/step - loss: 0.3680 - accuracy: 0.8348 - val_loss: 0.6536 - val_accuracy: 0.6475\n",
            "\n",
            "Epoch 00005: saving model to /content/drive/MyDrive/saved/cp.ckpt\n",
            "Epoch 6/30\n",
            "182/182 [==============================] - 316s 2s/step - loss: 0.3390 - accuracy: 0.8472 - val_loss: 0.4872 - val_accuracy: 0.7464\n",
            "\n",
            "Epoch 00006: saving model to /content/drive/MyDrive/saved/cp.ckpt\n",
            "Epoch 7/30\n",
            "182/182 [==============================] - 306s 2s/step - loss: 0.3230 - accuracy: 0.8491 - val_loss: 0.4815 - val_accuracy: 0.7410\n",
            "\n",
            "Epoch 00007: saving model to /content/drive/MyDrive/saved/cp.ckpt\n",
            "Epoch 8/30\n",
            "182/182 [==============================] - 306s 2s/step - loss: 0.3050 - accuracy: 0.8628 - val_loss: 0.4323 - val_accuracy: 0.7900\n",
            "\n",
            "Epoch 00008: saving model to /content/drive/MyDrive/saved/cp.ckpt\n",
            "Epoch 9/30\n",
            "182/182 [==============================] - 308s 2s/step - loss: 0.2985 - accuracy: 0.8645 - val_loss: 0.4250 - val_accuracy: 0.7793\n",
            "\n",
            "Epoch 00009: saving model to /content/drive/MyDrive/saved/cp.ckpt\n",
            "Epoch 10/30\n",
            "182/182 [==============================] - 307s 2s/step - loss: 0.2898 - accuracy: 0.8705 - val_loss: 0.4152 - val_accuracy: 0.8199\n",
            "\n",
            "Epoch 00010: saving model to /content/drive/MyDrive/saved/cp.ckpt\n",
            "Epoch 11/30\n",
            "182/182 [==============================] - 310s 2s/step - loss: 0.2773 - accuracy: 0.8791 - val_loss: 0.3922 - val_accuracy: 0.8031\n",
            "\n",
            "Epoch 00011: saving model to /content/drive/MyDrive/saved/cp.ckpt\n",
            "Epoch 12/30\n",
            "182/182 [==============================] - 308s 2s/step - loss: 0.2685 - accuracy: 0.8831 - val_loss: 0.3240 - val_accuracy: 0.8598\n",
            "\n",
            "Epoch 00012: saving model to /content/drive/MyDrive/saved/cp.ckpt\n",
            "Epoch 13/30\n",
            "182/182 [==============================] - 303s 2s/step - loss: 0.2572 - accuracy: 0.8886 - val_loss: 0.3361 - val_accuracy: 0.8582\n",
            "\n",
            "Epoch 00013: saving model to /content/drive/MyDrive/saved/cp.ckpt\n",
            "Epoch 14/30\n",
            "182/182 [==============================] - 306s 2s/step - loss: 0.2482 - accuracy: 0.8916 - val_loss: 0.3409 - val_accuracy: 0.8552\n",
            "\n",
            "Epoch 00014: saving model to /content/drive/MyDrive/saved/cp.ckpt\n",
            "Epoch 15/30\n",
            "182/182 [==============================] - 310s 2s/step - loss: 0.2401 - accuracy: 0.8972 - val_loss: 0.2786 - val_accuracy: 0.8912\n",
            "\n",
            "Epoch 00015: saving model to /content/drive/MyDrive/saved/cp.ckpt\n",
            "Epoch 16/30\n",
            "182/182 [==============================] - 304s 2s/step - loss: 0.2365 - accuracy: 0.9016 - val_loss: 0.2719 - val_accuracy: 0.8889\n",
            "\n",
            "Epoch 00016: saving model to /content/drive/MyDrive/saved/cp.ckpt\n",
            "Epoch 17/30\n",
            "182/182 [==============================] - 303s 2s/step - loss: 0.2456 - accuracy: 0.8914 - val_loss: 0.2861 - val_accuracy: 0.8874\n",
            "\n",
            "Epoch 00017: saving model to /content/drive/MyDrive/saved/cp.ckpt\n",
            "Epoch 18/30\n",
            "182/182 [==============================] - 303s 2s/step - loss: 0.2301 - accuracy: 0.9029 - val_loss: 0.2905 - val_accuracy: 0.8843\n",
            "\n",
            "Epoch 00018: saving model to /content/drive/MyDrive/saved/cp.ckpt\n",
            "Epoch 19/30\n",
            "182/182 [==============================] - 306s 2s/step - loss: 0.2179 - accuracy: 0.9072 - val_loss: 0.2773 - val_accuracy: 0.9034\n",
            "\n",
            "Epoch 00019: saving model to /content/drive/MyDrive/saved/cp.ckpt\n",
            "Epoch 20/30\n",
            "182/182 [==============================] - 304s 2s/step - loss: 0.2264 - accuracy: 0.9067 - val_loss: 0.2612 - val_accuracy: 0.8874\n",
            "\n",
            "Epoch 00020: saving model to /content/drive/MyDrive/saved/cp.ckpt\n",
            "Epoch 21/30\n",
            "182/182 [==============================] - 303s 2s/step - loss: 0.2027 - accuracy: 0.9124 - val_loss: 0.3025 - val_accuracy: 0.8536\n",
            "\n",
            "Epoch 00021: saving model to /content/drive/MyDrive/saved/cp.ckpt\n",
            "Epoch 22/30\n",
            "182/182 [==============================] - 306s 2s/step - loss: 0.2054 - accuracy: 0.9153 - val_loss: 0.2945 - val_accuracy: 0.8759\n",
            "\n",
            "Epoch 00022: saving model to /content/drive/MyDrive/saved/cp.ckpt\n",
            "Epoch 23/30\n",
            "182/182 [==============================] - 303s 2s/step - loss: 0.1987 - accuracy: 0.9200 - val_loss: 0.2433 - val_accuracy: 0.9134\n",
            "\n",
            "Epoch 00023: saving model to /content/drive/MyDrive/saved/cp.ckpt\n",
            "Epoch 24/30\n",
            "182/182 [==============================] - 304s 2s/step - loss: 0.1992 - accuracy: 0.9179 - val_loss: 0.2351 - val_accuracy: 0.9149\n",
            "\n",
            "Epoch 00024: saving model to /content/drive/MyDrive/saved/cp.ckpt\n",
            "Epoch 25/30\n",
            "182/182 [==============================] - 303s 2s/step - loss: 0.1800 - accuracy: 0.9264 - val_loss: 0.2274 - val_accuracy: 0.9188\n",
            "\n",
            "Epoch 00025: saving model to /content/drive/MyDrive/saved/cp.ckpt\n",
            "Epoch 26/30\n",
            "182/182 [==============================] - 307s 2s/step - loss: 0.1918 - accuracy: 0.9212 - val_loss: 0.2649 - val_accuracy: 0.8950\n",
            "\n",
            "Epoch 00026: saving model to /content/drive/MyDrive/saved/cp.ckpt\n",
            "Epoch 27/30\n",
            "182/182 [==============================] - 306s 2s/step - loss: 0.1887 - accuracy: 0.9253 - val_loss: 0.2588 - val_accuracy: 0.9080\n",
            "\n",
            "Epoch 00027: saving model to /content/drive/MyDrive/saved/cp.ckpt\n",
            "Epoch 28/30\n",
            "182/182 [==============================] - 303s 2s/step - loss: 0.1801 - accuracy: 0.9266 - val_loss: 0.2244 - val_accuracy: 0.9180\n",
            "\n",
            "Epoch 00028: saving model to /content/drive/MyDrive/saved/cp.ckpt\n",
            "Epoch 29/30\n",
            "182/182 [==============================] - 304s 2s/step - loss: 0.1698 - accuracy: 0.9329 - val_loss: 0.2202 - val_accuracy: 0.9241\n",
            "\n",
            "Epoch 00029: saving model to /content/drive/MyDrive/saved/cp.ckpt\n",
            "Epoch 30/30\n",
            "182/182 [==============================] - 303s 2s/step - loss: 0.1686 - accuracy: 0.9297 - val_loss: 0.1864 - val_accuracy: 0.9441\n",
            "\n",
            "Epoch 00030: saving model to /content/drive/MyDrive/saved/cp.ckpt\n"
          ]
        },
        {
          "output_type": "execute_result",
          "data": {
            "text/plain": [
              "<keras.callbacks.History at 0x7f09597d67d0>"
            ]
          },
          "metadata": {},
          "execution_count": 15
        }
      ]
    },
    {
      "cell_type": "code",
      "metadata": {
        "colab": {
          "base_uri": "https://localhost:8080/"
        },
        "id": "AQCDVTu9ZXOj",
        "outputId": "7e2badb2-8ae7-44f7-d5af-a33d8d7b3a3e"
      },
      "source": [
        "os.listdir(checkpoint_dir)\n"
      ],
      "execution_count": null,
      "outputs": [
        {
          "output_type": "execute_result",
          "data": {
            "text/plain": [
              "['cp.ckpt.data-00000-of-00001', 'cp.ckpt.index', 'checkpoint']"
            ]
          },
          "metadata": {},
          "execution_count": 20
        }
      ]
    },
    {
      "cell_type": "code",
      "metadata": {
        "id": "WbVKIjy1MqQX"
      },
      "source": [
        ""
      ],
      "execution_count": null,
      "outputs": []
    },
    {
      "cell_type": "code",
      "metadata": {
        "colab": {
          "base_uri": "https://localhost:8080/"
        },
        "id": "lDrJ3MWLJrLc",
        "outputId": "9787ee16-f098-47de-ff96-9b05db5ae2a7"
      },
      "source": [
        "# Part 4 - Making a single prediction\n",
        "print(training_set.class_indices)"
      ],
      "execution_count": null,
      "outputs": [
        {
          "output_type": "stream",
          "name": "stdout",
          "text": [
            "{'Covid': 0, 'Normal': 1}\n"
          ]
        }
      ]
    },
    {
      "cell_type": "code",
      "metadata": {
        "colab": {
          "base_uri": "https://localhost:8080/"
        },
        "id": "T5Fgb2R5LGiU",
        "outputId": "ff470c0a-ae18-4faf-afc6-052441e6ab64"
      },
      "source": [
        "test_image = image.load_img('/content/drive/MyDrive/CovidDataset/single_prediction/Normal-3557.png', target_size = (180, 180))\n",
        "test_image = image.img_to_array(test_image)\n",
        "test_image = np.expand_dims(test_image, axis = 0)\n",
        "result = model.predict(test_image)\n",
        "\n",
        "if result[0][0] == 1:\n",
        "    prediction = 'Normal'\n",
        "else:\n",
        "    prediction = 'Covid'\n",
        "print(prediction)"
      ],
      "execution_count": null,
      "outputs": [
        {
          "output_type": "stream",
          "name": "stdout",
          "text": [
            "Normal\n"
          ]
        }
      ]
    },
    {
      "cell_type": "code",
      "metadata": {
        "colab": {
          "base_uri": "https://localhost:8080/"
        },
        "id": "Kt3tH1nqLLFb",
        "outputId": "6dd8087e-4fba-485d-b19b-f3ca301b388d"
      },
      "source": [
        "test_image = image.load_img('/content/drive/MyDrive/CovidDataset/single_prediction/COVID-3614.png', target_size = (180, 180))\n",
        "test_image = image.img_to_array(test_image)\n",
        "test_image = np.expand_dims(test_image, axis = 0)\n",
        "result = model.predict(test_image)\n",
        "\n",
        "if result[0][0] == 1:\n",
        "    prediction = 'Normal'\n",
        "else:\n",
        "    prediction = 'Covid'\n",
        "print(prediction)"
      ],
      "execution_count": null,
      "outputs": [
        {
          "output_type": "stream",
          "name": "stdout",
          "text": [
            "Covid\n"
          ]
        }
      ]
    },
    {
      "cell_type": "code",
      "metadata": {
        "colab": {
          "base_uri": "https://localhost:8080/"
        },
        "id": "D5AXsaayLV6r",
        "outputId": "4bfb66cd-cd22-4f30-e57c-8696442f08c2"
      },
      "source": [
        "test_image = image.load_img('/content/drive/MyDrive/CovidDataset/single_prediction/COVID-3616.png', target_size = (180, 180))\n",
        "test_image = image.img_to_array(test_image)\n",
        "test_image = np.expand_dims(test_image, axis = 0)\n",
        "result = model.predict(test_image)\n",
        "\n",
        "if result[0][0] == 1:\n",
        "    prediction = 'Normal'\n",
        "else:\n",
        "    prediction = 'Covid'\n",
        "print(prediction)"
      ],
      "execution_count": null,
      "outputs": [
        {
          "output_type": "stream",
          "name": "stdout",
          "text": [
            "Covid\n"
          ]
        }
      ]
    },
    {
      "cell_type": "code",
      "metadata": {
        "colab": {
          "base_uri": "https://localhost:8080/"
        },
        "id": "QXYjXGrYLcAk",
        "outputId": "4ff850f7-24e8-483e-f1dc-cbf0ee9cabca"
      },
      "source": [
        "test_image = image.load_img('/content/drive/MyDrive/CovidDataset/single_prediction/Normal-3563.png', target_size = (180, 180))\n",
        "test_image = image.img_to_array(test_image)\n",
        "test_image = np.expand_dims(test_image, axis = 0)\n",
        "result = model.predict(test_image)\n",
        "\n",
        "if result[0][0] == 1:\n",
        "    prediction = 'Normal'\n",
        "else:\n",
        "    prediction = 'Covid'\n",
        "print(prediction)"
      ],
      "execution_count": null,
      "outputs": [
        {
          "output_type": "stream",
          "name": "stdout",
          "text": [
            "Normal\n"
          ]
        }
      ]
    },
    {
      "cell_type": "code",
      "metadata": {
        "colab": {
          "base_uri": "https://localhost:8080/"
        },
        "id": "1JBBpUD6LgR8",
        "outputId": "2e7e802b-dff1-4a97-964e-b8ac29928955"
      },
      "source": [
        "test_image = image.load_img('/content/drive/MyDrive/CovidDataset/single_prediction/IM-0033-0001-0001.png', target_size = (180, 180))\n",
        "test_image = image.img_to_array(test_image)\n",
        "test_image = np.expand_dims(test_image, axis = 0)\n",
        "result = model.predict(test_image)\n",
        "\n",
        "if result[0][0] == 1:\n",
        "    prediction = 'Normal'\n",
        "else:\n",
        "    prediction = 'Covid'\n",
        "print(prediction)"
      ],
      "execution_count": null,
      "outputs": [
        {
          "output_type": "stream",
          "name": "stdout",
          "text": [
            "Normal\n"
          ]
        }
      ]
    },
    {
      "cell_type": "code",
      "metadata": {
        "colab": {
          "base_uri": "https://localhost:8080/"
        },
        "id": "j8ZVqyH1MKZN",
        "outputId": "cd74a075-8b00-469b-c1e1-3606eabab0d6"
      },
      "source": [
        "test_image = image.load_img('/content/drive/MyDrive/CovidDataset/single_prediction/auntminnie-a-2020_01_28_23_51_6665_2020_01_28_Vietnam_coronavirus.png', target_size = (180, 180))\n",
        "test_image = image.img_to_array(test_image)\n",
        "test_image = np.expand_dims(test_image, axis = 0)\n",
        "result = model.predict(test_image)\n",
        "\n",
        "if result[0][0] == 1:\n",
        "    prediction = 'Normal'\n",
        "else:\n",
        "    prediction = 'Covid'\n",
        "print(prediction)"
      ],
      "execution_count": null,
      "outputs": [
        {
          "output_type": "stream",
          "name": "stdout",
          "text": [
            "Covid\n"
          ]
        }
      ]
    },
    {
      "cell_type": "code",
      "metadata": {
        "id": "o3EPmjfOuCky"
      },
      "source": [
        ""
      ],
      "execution_count": null,
      "outputs": []
    }
  ]
}